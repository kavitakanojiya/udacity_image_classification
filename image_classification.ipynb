{
 "cells": [
  {
   "cell_type": "markdown",
   "metadata": {
    "collapsed": true
   },
   "source": [
    "# Image Classification\n",
    "In this project, you'll classify images from the [CIFAR-10 dataset](https://www.cs.toronto.edu/~kriz/cifar.html).  The dataset consists of airplanes, dogs, cats, and other objects. You'll preprocess the images, then train a convolutional neural network on all the samples. The images need to be normalized and the labels need to be one-hot encoded.  You'll get to apply what you learned and build a convolutional, max pooling, dropout, and fully connected layers.  At the end, you'll get to see your neural network's predictions on the sample images.\n",
    "## Get the Data\n",
    "Run the following cell to download the [CIFAR-10 dataset for python](https://www.cs.toronto.edu/~kriz/cifar-10-python.tar.gz)."
   ]
  },
  {
   "cell_type": "code",
   "execution_count": 446,
   "metadata": {},
   "outputs": [],
   "source": [
    "#!pip install tqdm"
   ]
  },
  {
   "cell_type": "code",
   "execution_count": 447,
   "metadata": {},
   "outputs": [
    {
     "name": "stdout",
     "output_type": "stream",
     "text": [
      "All files found!\n"
     ]
    }
   ],
   "source": [
    "\"\"\"\n",
    "DON'T MODIFY ANYTHING IN THIS CELL THAT IS BELOW THIS LINE\n",
    "\"\"\"\n",
    "from urllib.request import urlretrieve\n",
    "from os.path import isfile, isdir\n",
    "from tqdm import tqdm\n",
    "import problem_unittests as tests\n",
    "import tarfile\n",
    "\n",
    "cifar10_dataset_folder_path = 'cifar-10-batches-py'\n",
    "\n",
    "class DLProgress(tqdm):\n",
    "    last_block = 0\n",
    "\n",
    "    def hook(self, block_num=1, block_size=1, total_size=None):\n",
    "        self.total = total_size\n",
    "        self.update((block_num - self.last_block) * block_size)\n",
    "        self.last_block = block_num\n",
    "\n",
    "if not isfile('cifar-10-python.tar.gz'):\n",
    "    with DLProgress(unit='B', unit_scale=True, miniters=1, desc='CIFAR-10 Dataset') as pbar:\n",
    "        urlretrieve(\n",
    "            'https://www.cs.toronto.edu/~kriz/cifar-10-python.tar.gz',\n",
    "            'cifar-10-python.tar.gz',\n",
    "            pbar.hook)\n",
    "\n",
    "if not isdir(cifar10_dataset_folder_path):\n",
    "    with tarfile.open('cifar-10-python.tar.gz') as tar:\n",
    "        tar.extractall()\n",
    "        tar.close()\n",
    "\n",
    "\n",
    "tests.test_folder_path(cifar10_dataset_folder_path)"
   ]
  },
  {
   "cell_type": "markdown",
   "metadata": {},
   "source": [
    "## Explore the Data\n",
    "The dataset is broken into batches to prevent your machine from running out of memory.  The CIFAR-10 dataset consists of 5 batches, named `data_batch_1`, `data_batch_2`, etc.. Each batch contains the labels and images that are one of the following:\n",
    "* airplane\n",
    "* automobile\n",
    "* bird\n",
    "* cat\n",
    "* deer\n",
    "* dog\n",
    "* frog\n",
    "* horse\n",
    "* ship\n",
    "* truck\n",
    "\n",
    "Understanding a dataset is part of making predictions on the data.  Play around with the code cell below by changing the `batch_id` and `sample_id`. The `batch_id` is the id for a batch (1-5). The `sample_id` is the id for a image and label pair in the batch.\n",
    "\n",
    "Ask yourself \"What are all possible labels?\", \"What is the range of values for the image data?\", \"Are the labels in order or random?\".  Answers to questions like these will help you preprocess the data and end up with better predictions."
   ]
  },
  {
   "cell_type": "code",
   "execution_count": 448,
   "metadata": {},
   "outputs": [
    {
     "name": "stdout",
     "output_type": "stream",
     "text": [
      "\n",
      "Stats of batch 1:\n",
      "Samples: 10000\n",
      "Label Counts: {0: 1005, 1: 974, 2: 1032, 3: 1016, 4: 999, 5: 937, 6: 1030, 7: 1001, 8: 1025, 9: 981}\n",
      "First 20 Labels: [6, 9, 9, 4, 1, 1, 2, 7, 8, 3, 4, 7, 7, 2, 9, 9, 9, 3, 2, 6]\n",
      "\n",
      "Example of Image 10:\n",
      "Image - Min Value: 24 Max Value: 130\n",
      "Image - Shape: (32, 32, 3)\n",
      "Label - Label Id: 4 Name: deer\n"
     ]
    },
    {
     "data": {
      "image/png": "[encoded data removed]",
      "text/plain": [
       "<matplotlib.figure.Figure at 0x127f695c0>"
      ]
     },
     "metadata": {
      "image/png": {
       "height": 250,
       "width": 253
      }
     },
     "output_type": "display_data"
    }
   ],
   "source": [
    "%matplotlib inline\n",
    "%config InlineBackend.figure_format = 'retina'\n",
    "\n",
    "import helper\n",
    "import numpy as np\n",
    "\n",
    "# Explore the dataset\n",
    "batch_id = 1\n",
    "sample_id = 10\n",
    "helper.display_stats(cifar10_dataset_folder_path, batch_id, sample_id)"
   ]
  },
  {
   "cell_type": "markdown",
   "metadata": {},
   "source": [
    "## Implement Preprocess Functions\n",
    "### Normalize\n",
    "In the cell below, implement the `normalize` function to take in image data, `x`, and return it as a normalized Numpy array. The values should be in the range of 0 to 1, inclusive.  The return object should be the same shape as `x`."
   ]
  },
  {
   "cell_type": "code",
   "execution_count": 449,
   "metadata": {},
   "outputs": [
    {
     "name": "stdout",
     "output_type": "stream",
     "text": [
      "Tests Passed\n"
     ]
    }
   ],
   "source": [
    "from sklearn import preprocessing\n",
    "\n",
    "def normalize(x):\n",
    "    \"\"\"\n",
    "    Normalize a list of sample image data in the range of 0 to 1\n",
    "    : x: List of image data.  The image shape is (32, 32, 3)\n",
    "    : return: Numpy array of normalize data\n",
    "    \"\"\"\n",
    "    # TODO: Implement Function\n",
    "\n",
    "    # scale and transform the data\n",
    "    # This is the same formula that MinMaxScaler has.\n",
    "    # So, applying the same directly to multi-dimensional array.\n",
    "    normalized_x = (x - np.min(x)) / (np.max(x) - np.min(x))\n",
    "\n",
    "    return normalized_x\n",
    "\n",
    "\"\"\"\n",
    "DON'T MODIFY ANYTHING IN THIS CELL THAT IS BELOW THIS LINE\n",
    "\"\"\"\n",
    "tests.test_normalize(normalize)"
   ]
  },
  {
   "cell_type": "markdown",
   "metadata": {},
   "source": [
    "### One-hot encode\n",
    "Just like the previous code cell, you'll be implementing a function for preprocessing.  This time, you'll implement the `one_hot_encode` function. The input, `x`, are a list of labels.  Implement the function to return the list of labels as One-Hot encoded Numpy array.  The possible values for labels are 0 to 9. The one-hot encoding function should return the same encoding for each value between each call to `one_hot_encode`.  Make sure to save the map of encodings outside the function.\n",
    "\n",
    "**Hint:**\n",
    "\n",
    "Look into LabelBinarizer in the preprocessing module of sklearn."
   ]
  },
  {
   "cell_type": "code",
   "execution_count": 450,
   "metadata": {},
   "outputs": [
    {
     "name": "stdout",
     "output_type": "stream",
     "text": [
      "Tests Passed\n"
     ]
    }
   ],
   "source": [
    "from sklearn.preprocessing import label_binarize\n",
    "\n",
    "def one_hot_encode(x):\n",
    "    \"\"\"\n",
    "    One hot encode a list of sample labels. Return a one-hot encoded vector for each label.\n",
    "    : x: List of sample Labels\n",
    "    : return: Numpy array of one-hot encoded labels\n",
    "    \"\"\"\n",
    "    # TODO: Implement Function\n",
    "\n",
    "    # Test verifies actual set to be max 9 labels similar to test set.\n",
    "    # Explicitly mentioning the range of 10.\n",
    "    # Approach 1:\n",
    "    # encoded_list = label_binarize(x, list(range(10)))\n",
    "\n",
    "    # Approach 2:\n",
    "    encoded_list = np.eye(10)[x]\n",
    "\n",
    "    return encoded_list\n",
    "\n",
    "\"\"\"\n",
    "DON'T MODIFY ANYTHING IN THIS CELL THAT IS BELOW THIS LINE\n",
    "\"\"\"\n",
    "tests.test_one_hot_encode(one_hot_encode)"
   ]
  },
  {
   "cell_type": "markdown",
   "metadata": {},
   "source": [
    "### Randomize Data\n",
    "As you saw from exploring the data above, the order of the samples are randomized.  It doesn't hurt to randomize it again, but you don't need to for this dataset."
   ]
  },
  {
   "cell_type": "markdown",
   "metadata": {},
   "source": [
    "## Preprocess all the data and save it\n",
    "Running the code cell below will preprocess all the CIFAR-10 data and save it to file. The code below also uses 10% of the training data for validation."
   ]
  },
  {
   "cell_type": "code",
   "execution_count": 451,
   "metadata": {},
   "outputs": [],
   "source": [
    "\"\"\"\n",
    "DON'T MODIFY ANYTHING IN THIS CELL\n",
    "\"\"\"\n",
    "# Preprocess Training, Validation, and Testing Data\n",
    "helper.preprocess_and_save_data(cifar10_dataset_folder_path, normalize, one_hot_encode)"
   ]
  },
  {
   "cell_type": "markdown",
   "metadata": {},
   "source": [
    "# Check Point\n",
    "This is your first checkpoint.  If you ever decide to come back to this notebook or have to restart the notebook, you can start from here.  The preprocessed data has been saved to disk."
   ]
  },
  {
   "cell_type": "code",
   "execution_count": 321,
   "metadata": {},
   "outputs": [],
   "source": [
    "\"\"\"\n",
    "DON'T MODIFY ANYTHING IN THIS CELL\n",
    "\"\"\"\n",
    "import pickle\n",
    "import problem_unittests as tests\n",
    "import helper\n",
    "\n",
    "# Load the Preprocessed Validation data\n",
    "valid_features, valid_labels = pickle.load(open('preprocess_validation.p', mode='rb'))"
   ]
  },
  {
   "cell_type": "markdown",
   "metadata": {},
   "source": [
    "## Build the network\n",
    "For the neural network, you'll build each layer into a function.  Most of the code you've seen has been outside of functions. To test your code more thoroughly, we require that you put each layer in a function.  This allows us to give you better feedback and test for simple mistakes using our unittests before you submit your project.\n",
    "\n",
    ">**Note:** If you're finding it hard to dedicate enough time for this course each week, we've provided a small shortcut to this part of the project. In the next couple of problems, you'll have the option to use classes from the [TensorFlow Layers](https://www.tensorflow.org/api_docs/python/tf/layers) or [TensorFlow Layers (contrib)](https://www.tensorflow.org/api_guides/python/contrib.layers) packages to build each layer, except the layers you build in the \"Convolutional and Max Pooling Layer\" section.  TF Layers is similar to Keras's and TFLearn's abstraction to layers, so it's easy to pickup.\n",
    "\n",
    ">However, if you would like to get the most out of this course, try to solve all the problems _without_ using anything from the TF Layers packages. You **can** still use classes from other packages that happen to have the same name as ones you find in TF Layers! For example, instead of using the TF Layers version of the `conv2d` class, [tf.layers.conv2d](https://www.tensorflow.org/api_docs/python/tf/layers/conv2d), you would want to use the TF Neural Network version of `conv2d`, [tf.nn.conv2d](https://www.tensorflow.org/api_docs/python/tf/nn/conv2d). \n",
    "\n",
    "Let's begin!\n",
    "\n",
    "### Input\n",
    "The neural network needs to read the image data, one-hot encoded labels, and dropout keep probability. Implement the following functions\n",
    "* Implement `neural_net_image_input`\n",
    " * Return a [TF Placeholder](https://www.tensorflow.org/api_docs/python/tf/placeholder)\n",
    " * Set the shape using `image_shape` with batch size set to `None`.\n",
    " * Name the TensorFlow placeholder \"x\" using the TensorFlow `name` parameter in the [TF Placeholder](https://www.tensorflow.org/api_docs/python/tf/placeholder).\n",
    "* Implement `neural_net_label_input`\n",
    " * Return a [TF Placeholder](https://www.tensorflow.org/api_docs/python/tf/placeholder)\n",
    " * Set the shape using `n_classes` with batch size set to `None`.\n",
    " * Name the TensorFlow placeholder \"y\" using the TensorFlow `name` parameter in the [TF Placeholder](https://www.tensorflow.org/api_docs/python/tf/placeholder).\n",
    "* Implement `neural_net_keep_prob_input`\n",
    " * Return a [TF Placeholder](https://www.tensorflow.org/api_docs/python/tf/placeholder) for dropout keep probability.\n",
    " * Name the TensorFlow placeholder \"keep_prob\" using the TensorFlow `name` parameter in the [TF Placeholder](https://www.tensorflow.org/api_docs/python/tf/placeholder).\n",
    "\n",
    "These names will be used at the end of the project to load your saved model.\n",
    "\n",
    "Note: `None` for shapes in TensorFlow allow for a dynamic size."
   ]
  },
  {
   "cell_type": "code",
   "execution_count": 464,
   "metadata": {},
   "outputs": [
    {
     "name": "stdout",
     "output_type": "stream",
     "text": [
      "Image Input Tests Passed.\n",
      "Label Input Tests Passed.\n",
      "Keep Prob Tests Passed.\n"
     ]
    }
   ],
   "source": [
    "import tensorflow as tf\n",
    "\n",
    "def neural_net_image_input(image_shape):\n",
    "    \"\"\"\n",
    "    Return a Tensor for a batch of image input\n",
    "    : image_shape: Shape of the images\n",
    "    : return: Tensor for image input.\n",
    "    \"\"\"\n",
    "    # TODO: Implement Function\n",
    "    updated_shape = [None] + list(image_shape)\n",
    "    place_holder = tf.placeholder(tf.float32, updated_shape, name='x')\n",
    "    return place_holder\n",
    "\n",
    "\n",
    "def neural_net_label_input(n_classes):\n",
    "    \"\"\"\n",
    "    Return a Tensor for a batch of label input\n",
    "    : n_classes: Number of classes\n",
    "    : return: Tensor for label input.\n",
    "    \"\"\"\n",
    "    # TODO: Implement Function\n",
    "    # return None\n",
    "    updated_shape = [None, n_classes]\n",
    "    return tf.placeholder(tf.float32, shape=updated_shape, name='y')\n",
    "\n",
    "\n",
    "def neural_net_keep_prob_input():\n",
    "    \"\"\"\n",
    "    Return a Tensor for keep probability\n",
    "    : return: Tensor for keep probability.\n",
    "    \"\"\"\n",
    "    # TODO: Implement Function\n",
    "    return tf.placeholder(tf.float32, name='keep_prob')\n",
    "\n",
    "\n",
    "\"\"\"\n",
    "DON'T MODIFY ANYTHING IN THIS CELL THAT IS BELOW THIS LINE\n",
    "\"\"\"\n",
    "tf.reset_default_graph()\n",
    "tests.test_nn_image_inputs(neural_net_image_input)\n",
    "tests.test_nn_label_inputs(neural_net_label_input)\n",
    "tests.test_nn_keep_prob_inputs(neural_net_keep_prob_input)"
   ]
  },
  {
   "cell_type": "markdown",
   "metadata": {},
   "source": [
    "### Convolution and Max Pooling Layer\n",
    "Convolution layers have a lot of success with images. For this code cell, you should implement the function `conv2d_maxpool` to apply convolution then max pooling:\n",
    "* Create the weight and bias using `conv_ksize`, `conv_num_outputs` and the shape of `x_tensor`.\n",
    "* Apply a convolution to `x_tensor` using weight and `conv_strides`.\n",
    " * We recommend you use same padding, but you're welcome to use any padding.\n",
    "* Add bias\n",
    "* Add a nonlinear activation to the convolution.\n",
    "* Apply Max Pooling using `pool_ksize` and `pool_strides`.\n",
    " * We recommend you use same padding, but you're welcome to use any padding.\n",
    "\n",
    "**Note:** You **can't** use [TensorFlow Layers](https://www.tensorflow.org/api_docs/python/tf/layers) or [TensorFlow Layers (contrib)](https://www.tensorflow.org/api_guides/python/contrib.layers) for **this** layer, but you can still use TensorFlow's [Neural Network](https://www.tensorflow.org/api_docs/python/tf/nn) package. You may still use the shortcut option for all the **other** layers.\n",
    "\n",
    "** Hint: **\n",
    "\n",
    "When unpacking values as an argument in Python, look into the [unpacking](https://docs.python.org/3/tutorial/controlflow.html#unpacking-argument-lists) operator. "
   ]
  },
  {
   "cell_type": "code",
   "execution_count": 465,
   "metadata": {
    "scrolled": false
   },
   "outputs": [
    {
     "name": "stdout",
     "output_type": "stream",
     "text": [
      "Tests Passed\n"
     ]
    }
   ],
   "source": [
    "def conv2d_maxpool(x_tensor, conv_num_outputs, conv_ksize, conv_strides, pool_ksize, pool_strides):\n",
    "    \"\"\"\n",
    "    Apply convolution then max pooling to x_tensor\n",
    "    :param x_tensor: TensorFlow Tensor\n",
    "    :param conv_num_outputs: Number of outputs for the convolutional layer\n",
    "    :param conv_ksize: kernal size 2-D Tuple for the convolutional layer\n",
    "    :param conv_strides: Stride 2-D Tuple for convolution\n",
    "    :param pool_ksize: kernal size 2-D Tuple for pool\n",
    "    :param pool_strides: Stride 2-D Tuple for pool\n",
    "    : return: A tensor that represents convolution and max pooling of x_tensor\n",
    "    \"\"\"\n",
    "    # TODO: Implement Function\n",
    "\n",
    "    # ADJUST VALUES\n",
    "    # 1. Get dimensions form x_tensor's shape. This includes height, weight and width of the image.\n",
    "    image_size = x_tensor.get_shape()\n",
    "    color_channels = int(image_size[3])\n",
    "    filter_size_height = conv_ksize[0]\n",
    "    filter_size_width = conv_ksize[1]\n",
    "\n",
    "    # 2. conv_num_outputs is the depth of the layers.\n",
    "    k_output = conv_num_outputs\n",
    "    \n",
    "    # 3. Updates strides for convolution layer with the size of 4.\n",
    "    # However, we get 2-D strides. By default, batch and channels remains 1.\n",
    "    updated_conv_strides = [1] + list(conv_strides) + [1]\n",
    "\n",
    "    # 4. Updates strides and ksize for convolution layer with the size of 4.\n",
    "    # However, we get 2-D strides. By default, batch and channels remains 1.\n",
    "    updated_pool_strides = [1] + list(pool_strides) + [1]\n",
    "    updated_pool_ksize = [1] + list(pool_ksize) + [1]\n",
    "\n",
    "    # Compute weight from the expected convolution layer.\n",
    "    weight = tf.Variable(tf.truncated_normal(\n",
    "        [filter_size_height, filter_size_width, color_channels, k_output],\n",
    "        stddev = 0.1))\n",
    "\n",
    "    # Compute bias from the depth of the layers.\n",
    "    bias = tf.Variable(tf.zeros(k_output))\n",
    "    \n",
    "    conv_layer = tf.nn.conv2d(x_tensor, weight, strides=updated_conv_strides, padding='SAME')\n",
    "    conv_layer = tf.nn.bias_add(conv_layer, bias)\n",
    "    conv_layer = tf.nn.max_pool(conv_layer, ksize=updated_pool_ksize, strides=updated_pool_strides, padding='SAME')\n",
    "    conv_layer = tf.nn.relu(conv_layer)\n",
    "\n",
    "    return conv_layer\n",
    "\n",
    "\n",
    "\"\"\"\n",
    "DON'T MODIFY ANYTHING IN THIS CELL THAT IS BELOW THIS LINE\n",
    "\"\"\"\n",
    "tests.test_con_pool(conv2d_maxpool)"
   ]
  },
  {
   "cell_type": "markdown",
   "metadata": {},
   "source": [
    "### Flatten Layer\n",
    "Implement the `flatten` function to change the dimension of `x_tensor` from a 4-D tensor to a 2-D tensor.  The output should be the shape (*Batch Size*, *Flattened Image Size*). Shortcut option: you can use classes from the [TensorFlow Layers](https://www.tensorflow.org/api_docs/python/tf/layers) or [TensorFlow Layers (contrib)](https://www.tensorflow.org/api_guides/python/contrib.layers) packages for this layer. For more of a challenge, only use other TensorFlow packages."
   ]
  },
  {
   "cell_type": "code",
   "execution_count": 466,
   "metadata": {},
   "outputs": [
    {
     "name": "stdout",
     "output_type": "stream",
     "text": [
      "Tests Passed\n"
     ]
    }
   ],
   "source": [
    "def flatten(x_tensor):\n",
    "    \"\"\"\n",
    "    Flatten x_tensor to (Batch Size, Flattened Image Size)\n",
    "    : x_tensor: A tensor of size (Batch Size, ...), where ... are the image dimensions.\n",
    "    : return: A tensor of size (Batch Size, Flattened Image Size).\n",
    "    \"\"\"\n",
    "    # TODO: Implement Function\n",
    "    \n",
    "    # Get the current shape of the tensor.\n",
    "    # Returns as [None, 10, 30, 6].\n",
    "    current_shape = x_tensor.get_shape().as_list()\n",
    "\n",
    "    # Get integers in a shape.\n",
    "    # Returns as [10, 30, 6].\n",
    "    current_dimensions = current_shape[1:]\n",
    "    \n",
    "    # Dot product of the integer dimensions.\n",
    "    # Returns here as 1800.\n",
    "    new_dimensions = np.prod(current_dimensions)\n",
    "    \n",
    "    # Modifies the x_tensor with new dimension.\n",
    "    # -1 states that include all the columns irrespective of any batchsize.\n",
    "    reshaped_x_tensor = tf.reshape(x_tensor, [-1, new_dimensions])\n",
    "    return reshaped_x_tensor\n",
    "\n",
    "\n",
    "\"\"\"\n",
    "DON'T MODIFY ANYTHING IN THIS CELL THAT IS BELOW THIS LINE\n",
    "\"\"\"\n",
    "tests.test_flatten(flatten)"
   ]
  },
  {
   "cell_type": "markdown",
   "metadata": {},
   "source": [
    "### Fully-Connected Layer\n",
    "Implement the `fully_conn` function to apply a fully connected layer to `x_tensor` with the shape (*Batch Size*, *num_outputs*). Shortcut option: you can use classes from the [TensorFlow Layers](https://www.tensorflow.org/api_docs/python/tf/layers) or [TensorFlow Layers (contrib)](https://www.tensorflow.org/api_guides/python/contrib.layers) packages for this layer. For more of a challenge, only use other TensorFlow packages."
   ]
  },
  {
   "cell_type": "code",
   "execution_count": 467,
   "metadata": {},
   "outputs": [
    {
     "name": "stdout",
     "output_type": "stream",
     "text": [
      "Tests Passed\n"
     ]
    }
   ],
   "source": [
    "def fully_conn(x_tensor, num_outputs):\n",
    "    \"\"\"\n",
    "    Apply a fully connected layer to x_tensor using weight and bias\n",
    "    : x_tensor: A 2-D tensor where the first dimension is batch size.\n",
    "    : num_outputs: The number of output that the new tensor should be.\n",
    "    : return: A 2-D tensor where the second dimension is num_outputs.\n",
    "    \"\"\"\n",
    "    # TODO: Implement Function\n",
    "\n",
    "    # Approach 1: Manual calculation\n",
    "    # x_tensor is set to be of shape [None, 128]\n",
    "    # num_outputs is the depth of the output.\n",
    "    # Reshape x_tensor with num_ouputs irrespective of the batch size.\n",
    "    # reshaped_tensor = tf.reshape(x_tensor, [-1, num_outputs])\n",
    "    \n",
    "    # Approach 2: Using tf.contrib.layers.fully_connected\n",
    "    reshaped_tensor = tf.contrib.layers.fully_connected(x_tensor, num_outputs)\n",
    "    return reshaped_tensor\n",
    "\n",
    "\n",
    "\"\"\"\n",
    "DON'T MODIFY ANYTHING IN THIS CELL THAT IS BELOW THIS LINE\n",
    "\"\"\"\n",
    "tests.test_fully_conn(fully_conn)"
   ]
  },
  {
   "cell_type": "markdown",
   "metadata": {},
   "source": [
    "### Output Layer\n",
    "Implement the `output` function to apply a fully connected layer to `x_tensor` with the shape (*Batch Size*, *num_outputs*). Shortcut option: you can use classes from the [TensorFlow Layers](https://www.tensorflow.org/api_docs/python/tf/layers) or [TensorFlow Layers (contrib)](https://www.tensorflow.org/api_guides/python/contrib.layers) packages for this layer. For more of a challenge, only use other TensorFlow packages.\n",
    "\n",
    "**Note:** Activation, softmax, or cross entropy should **not** be applied to this."
   ]
  },
  {
   "cell_type": "code",
   "execution_count": 468,
   "metadata": {},
   "outputs": [
    {
     "name": "stdout",
     "output_type": "stream",
     "text": [
      "Tests Passed\n"
     ]
    }
   ],
   "source": [
    "def output(x_tensor, num_outputs):\n",
    "    \"\"\"\n",
    "    Apply a output layer to x_tensor using weight and bias\n",
    "    : x_tensor: A 2-D tensor where the first dimension is batch size.\n",
    "    : num_outputs: The number of output that the new tensor should be.\n",
    "    : return: A 2-D tensor where the second dimension is num_outputs.\n",
    "    \"\"\"\n",
    "    # TODO: Implement Function\n",
    "\n",
    "    # Approach 1: Manual calculation\n",
    "    # x_tensor is set to be of shape [None, 128]\n",
    "    # num_outputs is the depth of the output.\n",
    "    # Reshape x_tensor with num_ouputs irrespective of the batch size.\n",
    "    # reshaped_tensor = tf.reshape(x_tensor, [-1, num_outputs])\n",
    "\n",
    "    # Approach 2: Using tf.contrib.layers.fully_connected with no activation function\n",
    "    reshaped_tensor = tf.contrib.layers.fully_connected(x_tensor, num_outputs, activation_fn = None)\n",
    "\n",
    "    return reshaped_tensor\n",
    "\n",
    "\n",
    "\"\"\"\n",
    "DON'T MODIFY ANYTHING IN THIS CELL THAT IS BELOW THIS LINE\n",
    "\"\"\"\n",
    "tests.test_output(output)"
   ]
  },
  {
   "cell_type": "markdown",
   "metadata": {},
   "source": [
    "### Create Convolutional Model\n",
    "Implement the function `conv_net` to create a convolutional neural network model. The function takes in a batch of images, `x`, and outputs logits.  Use the layers you created above to create this model:\n",
    "\n",
    "* Apply 1, 2, or 3 Convolution and Max Pool layers\n",
    "* Apply a Flatten Layer\n",
    "* Apply 1, 2, or 3 Fully Connected Layers\n",
    "* Apply an Output Layer\n",
    "* Return the output\n",
    "* Apply [TensorFlow's Dropout](https://www.tensorflow.org/api_docs/python/tf/nn/dropout) to one or more layers in the model using `keep_prob`. "
   ]
  },
  {
   "cell_type": "code",
   "execution_count": 469,
   "metadata": {
    "scrolled": false
   },
   "outputs": [
    {
     "name": "stdout",
     "output_type": "stream",
     "text": [
      "Neural Network Built!\n"
     ]
    }
   ],
   "source": [
    "# conv2d_maxpool(x_tensor, conv_num_outputs, conv_ksize, conv_strides, pool_ksize, pool_strides)\n",
    "# Tensor(\"Placeholder:0\", shape=(?, 32, 32, 5), dtype=float32)\n",
    "# 10\n",
    "# (2, 2)\n",
    "# (4, 4)\n",
    "# (2, 2)\n",
    "# (2, 2)\n",
    "# Tests P\n",
    "\n",
    "def conv_net(x, keep_prob):\n",
    "    \"\"\"\n",
    "    Create a convolutional neural network model\n",
    "    : x: Placeholder tensor that holds image data.\n",
    "    : keep_prob: Placeholder tensor that hold dropout keep probability.\n",
    "    : return: Tensor that represents logits\n",
    "    \"\"\"\n",
    "    # TODO: Apply 1, 2, or 3 Convolution and Max Pool layers\n",
    "    #    Play around with different number of outputs, kernel size and stride\n",
    "    # Function Definition from Above:\n",
    "    #    conv2d_maxpool(x_tensor, conv_num_outputs, conv_ksize, conv_strides, pool_ksize, pool_strides)\n",
    "\n",
    "    # Set random values for:\n",
    "    ## 1. depth of the output.\n",
    "    conv_num_outputs = 40\n",
    "    ## 2. filter layer.\n",
    "    conv_ksize = (3, 3)\n",
    "    ## 3. convolutional strides.\n",
    "    conv_strides = (1, 1)\n",
    "    ## 4. ksize for maxpooling.\n",
    "    pool_ksize = (2, 2)\n",
    "    ## 5. strides for maxpooling.\n",
    "    pool_strides = (2, 2)\n",
    "\n",
    "    x_tensor = conv2d_maxpool(x, conv_num_outputs, conv_ksize, conv_strides, pool_ksize, pool_strides)\n",
    "    x_tensor = conv2d_maxpool(x_tensor, conv_num_outputs, conv_ksize, conv_strides, pool_ksize, pool_strides)\n",
    "\n",
    "    # TODO: Apply a Flatten Layer\n",
    "    # Function Definition from Above:\n",
    "    #   flatten(x_tensor)\n",
    "    x_tensor = flatten(x_tensor)\n",
    "\n",
    "    # TODO: Apply 1, 2, or 3 Fully Connected Layers\n",
    "    #    Play around with different number of outputs\n",
    "    # Function Definition from Above:\n",
    "    #   fully_conn(x_tensor, num_outputs)\n",
    "    x_tensor = fully_conn(x_tensor, 384)\n",
    "    x_tensor = fully_conn(x_tensor, 192)\n",
    "\n",
    "    x_tensor = tf.nn.dropout(x_tensor, keep_prob)\n",
    "    # TODO: Apply an Output Layer\n",
    "    #    Set this to the number of classes\n",
    "    # Function Definition from Above:\n",
    "    #   output(x_tensor, num_outputs)\n",
    "    x_tensor = output(x_tensor, 10)\n",
    "    \n",
    "    # TODO: return output\n",
    "    return x_tensor\n",
    "\n",
    "\n",
    "\"\"\"\n",
    "DON'T MODIFY ANYTHING IN THIS CELL THAT IS BELOW THIS LINE\n",
    "\"\"\"\n",
    "\n",
    "##############################\n",
    "## Build the Neural Network ##\n",
    "##############################\n",
    "\n",
    "# Remove previous weights, bias, inputs, etc..\n",
    "tf.reset_default_graph()\n",
    "\n",
    "# Inputs\n",
    "x = neural_net_image_input((32, 32, 3))\n",
    "y = neural_net_label_input(10)\n",
    "keep_prob = neural_net_keep_prob_input()\n",
    "\n",
    "# Model\n",
    "logits = conv_net(x, keep_prob)\n",
    "\n",
    "# Name logits Tensor, so that is can be loaded from disk after training\n",
    "logits = tf.identity(logits, name='logits')\n",
    "\n",
    "# Loss and Optimizer\n",
    "cost = tf.reduce_mean(tf.nn.softmax_cross_entropy_with_logits(logits=logits, labels=y))\n",
    "optimizer = tf.train.AdamOptimizer().minimize(cost)\n",
    "\n",
    "# Accuracy\n",
    "correct_pred = tf.equal(tf.argmax(logits, 1), tf.argmax(y, 1))\n",
    "accuracy = tf.reduce_mean(tf.cast(correct_pred, tf.float32), name='accuracy')\n",
    "\n",
    "tests.test_conv_net(conv_net)"
   ]
  },
  {
   "cell_type": "markdown",
   "metadata": {},
   "source": [
    "## Train the Neural Network\n",
    "### Single Optimization\n",
    "Implement the function `train_neural_network` to do a single optimization.  The optimization should use `optimizer` to optimize in `session` with a `feed_dict` of the following:\n",
    "* `x` for image input\n",
    "* `y` for labels\n",
    "* `keep_prob` for keep probability for dropout\n",
    "\n",
    "This function will be called for each batch, so `tf.global_variables_initializer()` has already been called.\n",
    "\n",
    "Note: Nothing needs to be returned. This function is only optimizing the neural network."
   ]
  },
  {
   "cell_type": "code",
   "execution_count": 470,
   "metadata": {},
   "outputs": [
    {
     "name": "stdout",
     "output_type": "stream",
     "text": [
      "Tests Passed\n"
     ]
    }
   ],
   "source": [
    "def train_neural_network(session, optimizer, keep_probability, feature_batch, label_batch):\n",
    "    \"\"\"\n",
    "    Optimize the session on a batch of images and labels\n",
    "    : session: Current TensorFlow session\n",
    "    : optimizer: TensorFlow optimizer function\n",
    "    : keep_probability: keep probability\n",
    "    : feature_batch: Batch of Numpy image data\n",
    "    : label_batch: Batch of Numpy label data\n",
    "    \"\"\"\n",
    "    # TODO: Implement Function\n",
    "    feed_dict_train = { x: feature_batch, y: label_batch, keep_prob: keep_probability }\n",
    "#     print(feed_dict_train)\n",
    "    session.run(optimizer, feed_dict=feed_dict_train)\n",
    "\n",
    "\"\"\"\n",
    "DON'T MODIFY ANYTHING IN THIS CELL THAT IS BELOW THIS LINE\n",
    "\"\"\"\n",
    "tests.test_train_nn(train_neural_network)"
   ]
  },
  {
   "cell_type": "markdown",
   "metadata": {},
   "source": [
    "### Show Stats\n",
    "Implement the function `print_stats` to print loss and validation accuracy.  Use the global variables `valid_features` and `valid_labels` to calculate validation accuracy.  Use a keep probability of `1.0` to calculate the loss and validation accuracy."
   ]
  },
  {
   "cell_type": "code",
   "execution_count": 471,
   "metadata": {},
   "outputs": [],
   "source": [
    "def print_stats(session, feature_batch, label_batch, cost, accuracy):\n",
    "    \"\"\"\n",
    "    Print information about loss and validation accuracy\n",
    "    : session: Current TensorFlow session\n",
    "    : feature_batch: Batch of Numpy image data\n",
    "    : label_batch: Batch of Numpy label data\n",
    "    : cost: TensorFlow cost function\n",
    "    : accuracy: TensorFlow accuracy function\n",
    "    \"\"\"\n",
    "    # TODO: Implement Function\n",
    "\n",
    "    loss = sess.run(cost, feed_dict={ x: feature_batch, y: label_batch, keep_prob: 1.})\n",
    "    accuracy = sess.run(accuracy, feed_dict={ x: valid_features, y: valid_labels, keep_prob: 1.})\n",
    "\n",
    "    print('Loss: {:>10.4f} Validation Accuracy: {:.6f}'.format(loss, accuracy))"
   ]
  },
  {
   "cell_type": "markdown",
   "metadata": {},
   "source": [
    "### Hyperparameters\n",
    "Tune the following parameters:\n",
    "* Set `epochs` to the number of iterations until the network stops learning or start overfitting\n",
    "* Set `batch_size` to the highest number that your machine has memory for.  Most people set them to common sizes of memory:\n",
    " * 64\n",
    " * 128\n",
    " * 256\n",
    " * ...\n",
    "* Set `keep_probability` to the probability of keeping a node using dropout"
   ]
  },
  {
   "cell_type": "code",
   "execution_count": 472,
   "metadata": {},
   "outputs": [],
   "source": [
    "# TODO: Tune Parameters\n",
    "epochs = 50\n",
    "batch_size = 256\n",
    "keep_probability = 0.70"
   ]
  },
  {
   "cell_type": "markdown",
   "metadata": {},
   "source": [
    "### Train on a Single CIFAR-10 Batch\n",
    "Instead of training the neural network on all the CIFAR-10 batches of data, let's use a single batch. This should save time while you iterate on the model to get a better accuracy.  Once the final validation accuracy is 50% or greater, run the model on all the data in the next section."
   ]
  },
  {
   "cell_type": "code",
   "execution_count": 473,
   "metadata": {
    "scrolled": false
   },
   "outputs": [
    {
     "name": "stdout",
     "output_type": "stream",
     "text": [
      "Checking the Training on a Single Batch...\n",
      "Epoch  1, CIFAR-10 Batch 1:  Loss:     1.9539 Validation Accuracy: 0.349200\n",
      "Epoch  2, CIFAR-10 Batch 1:  Loss:     1.6298 Validation Accuracy: 0.437400\n",
      "Epoch  3, CIFAR-10 Batch 1:  Loss:     1.3256 Validation Accuracy: 0.483800\n",
      "Epoch  4, CIFAR-10 Batch 1:  Loss:     1.1261 Validation Accuracy: 0.497800\n",
      "Epoch  5, CIFAR-10 Batch 1:  Loss:     0.9583 Validation Accuracy: 0.513400\n",
      "Epoch  6, CIFAR-10 Batch 1:  Loss:     0.8009 Validation Accuracy: 0.517600\n",
      "Epoch  7, CIFAR-10 Batch 1:  Loss:     0.6398 Validation Accuracy: 0.529600\n",
      "Epoch  8, CIFAR-10 Batch 1:  Loss:     0.5284 Validation Accuracy: 0.539800\n",
      "Epoch  9, CIFAR-10 Batch 1:  Loss:     0.4531 Validation Accuracy: 0.547200\n",
      "Epoch 10, CIFAR-10 Batch 1:  Loss:     0.3650 Validation Accuracy: 0.570200\n",
      "Epoch 11, CIFAR-10 Batch 1:  Loss:     0.3005 Validation Accuracy: 0.573800\n",
      "Epoch 12, CIFAR-10 Batch 1:  Loss:     0.2562 Validation Accuracy: 0.568400\n",
      "Epoch 13, CIFAR-10 Batch 1:  Loss:     0.2318 Validation Accuracy: 0.553400\n",
      "Epoch 14, CIFAR-10 Batch 1:  Loss:     0.1656 Validation Accuracy: 0.571800\n",
      "Epoch 15, CIFAR-10 Batch 1:  Loss:     0.1117 Validation Accuracy: 0.571200\n",
      "Epoch 16, CIFAR-10 Batch 1:  Loss:     0.0865 Validation Accuracy: 0.588200\n",
      "Epoch 17, CIFAR-10 Batch 1:  Loss:     0.0661 Validation Accuracy: 0.587400\n",
      "Epoch 18, CIFAR-10 Batch 1:  Loss:     0.0661 Validation Accuracy: 0.580800\n",
      "Epoch 19, CIFAR-10 Batch 1:  Loss:     0.0603 Validation Accuracy: 0.579800\n",
      "Epoch 20, CIFAR-10 Batch 1:  Loss:     0.0435 Validation Accuracy: 0.569600\n",
      "Epoch 21, CIFAR-10 Batch 1:  Loss:     0.0457 Validation Accuracy: 0.546200\n",
      "Epoch 22, CIFAR-10 Batch 1:  Loss:     0.0213 Validation Accuracy: 0.577000\n",
      "Epoch 23, CIFAR-10 Batch 1:  Loss:     0.0231 Validation Accuracy: 0.580800\n",
      "Epoch 24, CIFAR-10 Batch 1:  Loss:     0.0133 Validation Accuracy: 0.583200\n",
      "Epoch 25, CIFAR-10 Batch 1:  Loss:     0.0190 Validation Accuracy: 0.585600\n",
      "Epoch 26, CIFAR-10 Batch 1:  Loss:     0.0246 Validation Accuracy: 0.567200\n",
      "Epoch 27, CIFAR-10 Batch 1:  Loss:     0.0178 Validation Accuracy: 0.554800\n",
      "Epoch 28, CIFAR-10 Batch 1:  Loss:     0.0121 Validation Accuracy: 0.572400\n",
      "Epoch 29, CIFAR-10 Batch 1:  Loss:     0.0338 Validation Accuracy: 0.582000\n",
      "Epoch 30, CIFAR-10 Batch 1:  Loss:     0.0129 Validation Accuracy: 0.578800\n",
      "Epoch 31, CIFAR-10 Batch 1:  Loss:     0.0070 Validation Accuracy: 0.570000\n",
      "Epoch 32, CIFAR-10 Batch 1:  Loss:     0.0062 Validation Accuracy: 0.583200\n",
      "Epoch 33, CIFAR-10 Batch 1:  Loss:     0.0046 Validation Accuracy: 0.587800\n",
      "Epoch 34, CIFAR-10 Batch 1:  Loss:     0.0023 Validation Accuracy: 0.593000\n",
      "Epoch 35, CIFAR-10 Batch 1:  Loss:     0.0013 Validation Accuracy: 0.596200\n",
      "Epoch 36, CIFAR-10 Batch 1:  Loss:     0.0014 Validation Accuracy: 0.600000\n",
      "Epoch 37, CIFAR-10 Batch 1:  Loss:     0.0021 Validation Accuracy: 0.599600\n",
      "Epoch 38, CIFAR-10 Batch 1:  Loss:     0.0024 Validation Accuracy: 0.593800\n",
      "Epoch 39, CIFAR-10 Batch 1:  Loss:     0.0009 Validation Accuracy: 0.594200\n",
      "Epoch 40, CIFAR-10 Batch 1:  Loss:     0.0010 Validation Accuracy: 0.595000\n",
      "Epoch 41, CIFAR-10 Batch 1:  Loss:     0.0007 Validation Accuracy: 0.585800\n",
      "Epoch 42, CIFAR-10 Batch 1:  Loss:     0.0012 Validation Accuracy: 0.580000\n",
      "Epoch 43, CIFAR-10 Batch 1:  Loss:     0.0015 Validation Accuracy: 0.589200\n",
      "Epoch 44, CIFAR-10 Batch 1:  Loss:     0.0005 Validation Accuracy: 0.591800\n",
      "Epoch 45, CIFAR-10 Batch 1:  Loss:     0.0006 Validation Accuracy: 0.600200\n",
      "Epoch 46, CIFAR-10 Batch 1:  Loss:     0.0005 Validation Accuracy: 0.599000\n",
      "Epoch 47, CIFAR-10 Batch 1:  Loss:     0.0002 Validation Accuracy: 0.603000\n",
      "Epoch 48, CIFAR-10 Batch 1:  Loss:     0.0003 Validation Accuracy: 0.606200\n",
      "Epoch 49, CIFAR-10 Batch 1:  Loss:     0.0001 Validation Accuracy: 0.602400\n",
      "Epoch 50, CIFAR-10 Batch 1:  Loss:     0.0002 Validation Accuracy: 0.597400\n"
     ]
    }
   ],
   "source": [
    "\"\"\"\n",
    "DON'T MODIFY ANYTHING IN THIS CELL\n",
    "\"\"\"\n",
    "print('Checking the Training on a Single Batch...')\n",
    "with tf.Session() as sess:\n",
    "    # Initializing the variables\n",
    "    sess.run(tf.global_variables_initializer())\n",
    "    \n",
    "    # Training cycle\n",
    "    for epoch in range(epochs):\n",
    "        batch_i = 1\n",
    "        for batch_features, batch_labels in helper.load_preprocess_training_batch(batch_i, batch_size):\n",
    "            train_neural_network(sess, optimizer, keep_probability, batch_features, batch_labels)\n",
    "        print('Epoch {:>2}, CIFAR-10 Batch {}:  '.format(epoch + 1, batch_i), end='')\n",
    "        print_stats(sess, batch_features, batch_labels, cost, accuracy)"
   ]
  },
  {
   "cell_type": "markdown",
   "metadata": {},
   "source": [
    "### Fully Train the Model\n",
    "Now that you got a good accuracy with a single CIFAR-10 batch, try it with all five batches."
   ]
  },
  {
   "cell_type": "code",
   "execution_count": 474,
   "metadata": {
    "scrolled": false
   },
   "outputs": [
    {
     "name": "stdout",
     "output_type": "stream",
     "text": [
      "Training...\n",
      "Epoch  1, CIFAR-10 Batch 1:  Loss:     1.9297 Validation Accuracy: 0.391600\n",
      "Epoch  1, CIFAR-10 Batch 2:  Loss:     1.4350 Validation Accuracy: 0.432000\n",
      "Epoch  1, CIFAR-10 Batch 3:  Loss:     1.1236 Validation Accuracy: 0.477400\n",
      "Epoch  1, CIFAR-10 Batch 4:  Loss:     1.3346 Validation Accuracy: 0.509000\n",
      "Epoch  1, CIFAR-10 Batch 5:  Loss:     1.2931 Validation Accuracy: 0.550000\n",
      "Epoch  2, CIFAR-10 Batch 1:  Loss:     1.3587 Validation Accuracy: 0.561000\n",
      "Epoch  2, CIFAR-10 Batch 2:  Loss:     1.0392 Validation Accuracy: 0.537800\n",
      "Epoch  2, CIFAR-10 Batch 3:  Loss:     0.7910 Validation Accuracy: 0.546600\n",
      "Epoch  2, CIFAR-10 Batch 4:  Loss:     0.9456 Validation Accuracy: 0.588800\n",
      "Epoch  2, CIFAR-10 Batch 5:  Loss:     0.9087 Validation Accuracy: 0.622800\n",
      "Epoch  3, CIFAR-10 Batch 1:  Loss:     0.9470 Validation Accuracy: 0.629600\n",
      "Epoch  3, CIFAR-10 Batch 2:  Loss:     0.6792 Validation Accuracy: 0.628400\n",
      "Epoch  3, CIFAR-10 Batch 3:  Loss:     0.5095 Validation Accuracy: 0.604200\n",
      "Epoch  3, CIFAR-10 Batch 4:  Loss:     0.6750 Validation Accuracy: 0.637000\n",
      "Epoch  3, CIFAR-10 Batch 5:  Loss:     0.5887 Validation Accuracy: 0.639400\n",
      "Epoch  4, CIFAR-10 Batch 1:  Loss:     0.6856 Validation Accuracy: 0.660800\n",
      "Epoch  4, CIFAR-10 Batch 2:  Loss:     0.5580 Validation Accuracy: 0.634800\n",
      "Epoch  4, CIFAR-10 Batch 3:  Loss:     0.4068 Validation Accuracy: 0.645400\n",
      "Epoch  4, CIFAR-10 Batch 4:  Loss:     0.4896 Validation Accuracy: 0.664000\n",
      "Epoch  4, CIFAR-10 Batch 5:  Loss:     0.4160 Validation Accuracy: 0.655200\n",
      "Epoch  5, CIFAR-10 Batch 1:  Loss:     0.4983 Validation Accuracy: 0.657600\n",
      "Epoch  5, CIFAR-10 Batch 2:  Loss:     0.3966 Validation Accuracy: 0.640400\n",
      "Epoch  5, CIFAR-10 Batch 3:  Loss:     0.2597 Validation Accuracy: 0.675200\n",
      "Epoch  5, CIFAR-10 Batch 4:  Loss:     0.3242 Validation Accuracy: 0.676600\n",
      "Epoch  5, CIFAR-10 Batch 5:  Loss:     0.3230 Validation Accuracy: 0.642800\n",
      "Epoch  6, CIFAR-10 Batch 1:  Loss:     0.3729 Validation Accuracy: 0.680000\n",
      "Epoch  6, CIFAR-10 Batch 2:  Loss:     0.2414 Validation Accuracy: 0.663000\n",
      "Epoch  6, CIFAR-10 Batch 3:  Loss:     0.2086 Validation Accuracy: 0.671200\n",
      "Epoch  6, CIFAR-10 Batch 4:  Loss:     0.2625 Validation Accuracy: 0.687800\n",
      "Epoch  6, CIFAR-10 Batch 5:  Loss:     0.2183 Validation Accuracy: 0.658400\n",
      "Epoch  7, CIFAR-10 Batch 1:  Loss:     0.2680 Validation Accuracy: 0.695600\n",
      "Epoch  7, CIFAR-10 Batch 2:  Loss:     0.1390 Validation Accuracy: 0.677400\n",
      "Epoch  7, CIFAR-10 Batch 3:  Loss:     0.1341 Validation Accuracy: 0.693800\n",
      "Epoch  7, CIFAR-10 Batch 4:  Loss:     0.1795 Validation Accuracy: 0.692400\n",
      "Epoch  7, CIFAR-10 Batch 5:  Loss:     0.1626 Validation Accuracy: 0.680200\n",
      "Epoch  8, CIFAR-10 Batch 1:  Loss:     0.1747 Validation Accuracy: 0.680200\n",
      "Epoch  8, CIFAR-10 Batch 2:  Loss:     0.1006 Validation Accuracy: 0.678400\n",
      "Epoch  8, CIFAR-10 Batch 3:  Loss:     0.1473 Validation Accuracy: 0.680600\n",
      "Epoch  8, CIFAR-10 Batch 4:  Loss:     0.1366 Validation Accuracy: 0.684800\n",
      "Epoch  8, CIFAR-10 Batch 5:  Loss:     0.1093 Validation Accuracy: 0.697800\n",
      "Epoch  9, CIFAR-10 Batch 1:  Loss:     0.1101 Validation Accuracy: 0.680400\n",
      "Epoch  9, CIFAR-10 Batch 2:  Loss:     0.0707 Validation Accuracy: 0.684400\n",
      "Epoch  9, CIFAR-10 Batch 3:  Loss:     0.1235 Validation Accuracy: 0.656400\n",
      "Epoch  9, CIFAR-10 Batch 4:  Loss:     0.1159 Validation Accuracy: 0.686600\n",
      "Epoch  9, CIFAR-10 Batch 5:  Loss:     0.0754 Validation Accuracy: 0.684800\n",
      "Epoch 10, CIFAR-10 Batch 1:  Loss:     0.0945 Validation Accuracy: 0.686800\n",
      "Epoch 10, CIFAR-10 Batch 2:  Loss:     0.0554 Validation Accuracy: 0.676200\n",
      "Epoch 10, CIFAR-10 Batch 3:  Loss:     0.0831 Validation Accuracy: 0.687400\n",
      "Epoch 10, CIFAR-10 Batch 4:  Loss:     0.1010 Validation Accuracy: 0.676600\n",
      "Epoch 10, CIFAR-10 Batch 5:  Loss:     0.0576 Validation Accuracy: 0.675800\n",
      "Epoch 11, CIFAR-10 Batch 1:  Loss:     0.0837 Validation Accuracy: 0.681600\n",
      "Epoch 11, CIFAR-10 Batch 2:  Loss:     0.0424 Validation Accuracy: 0.700800\n",
      "Epoch 11, CIFAR-10 Batch 3:  Loss:     0.0644 Validation Accuracy: 0.669600\n",
      "Epoch 11, CIFAR-10 Batch 4:  Loss:     0.0512 Validation Accuracy: 0.673000\n",
      "Epoch 11, CIFAR-10 Batch 5:  Loss:     0.0374 Validation Accuracy: 0.669200\n",
      "Epoch 12, CIFAR-10 Batch 1:  Loss:     0.0657 Validation Accuracy: 0.682200\n",
      "Epoch 12, CIFAR-10 Batch 2:  Loss:     0.0494 Validation Accuracy: 0.685400\n",
      "Epoch 12, CIFAR-10 Batch 3:  Loss:     0.0828 Validation Accuracy: 0.651000\n",
      "Epoch 12, CIFAR-10 Batch 4:  Loss:     0.0495 Validation Accuracy: 0.682800\n",
      "Epoch 12, CIFAR-10 Batch 5:  Loss:     0.0222 Validation Accuracy: 0.670400\n",
      "Epoch 13, CIFAR-10 Batch 1:  Loss:     0.0449 Validation Accuracy: 0.673200\n",
      "Epoch 13, CIFAR-10 Batch 2:  Loss:     0.0204 Validation Accuracy: 0.688200\n",
      "Epoch 13, CIFAR-10 Batch 3:  Loss:     0.0376 Validation Accuracy: 0.669000\n",
      "Epoch 13, CIFAR-10 Batch 4:  Loss:     0.0427 Validation Accuracy: 0.680000\n",
      "Epoch 13, CIFAR-10 Batch 5:  Loss:     0.0240 Validation Accuracy: 0.667600\n",
      "Epoch 14, CIFAR-10 Batch 1:  Loss:     0.0207 Validation Accuracy: 0.690000\n",
      "Epoch 14, CIFAR-10 Batch 2:  Loss:     0.0138 Validation Accuracy: 0.675800\n",
      "Epoch 14, CIFAR-10 Batch 3:  Loss:     0.0300 Validation Accuracy: 0.666000\n",
      "Epoch 14, CIFAR-10 Batch 4:  Loss:     0.0287 Validation Accuracy: 0.667600\n",
      "Epoch 14, CIFAR-10 Batch 5:  Loss:     0.0121 Validation Accuracy: 0.688600\n",
      "Epoch 15, CIFAR-10 Batch 1:  Loss:     0.0209 Validation Accuracy: 0.691400\n",
      "Epoch 15, CIFAR-10 Batch 2:  Loss:     0.0173 Validation Accuracy: 0.668800\n",
      "Epoch 15, CIFAR-10 Batch 3:  Loss:     0.0145 Validation Accuracy: 0.675800\n",
      "Epoch 15, CIFAR-10 Batch 4:  Loss:     0.0313 Validation Accuracy: 0.656800\n",
      "Epoch 15, CIFAR-10 Batch 5:  Loss:     0.0129 Validation Accuracy: 0.690600\n",
      "Epoch 16, CIFAR-10 Batch 1:  Loss:     0.0236 Validation Accuracy: 0.679200\n",
      "Epoch 16, CIFAR-10 Batch 2:  Loss:     0.0103 Validation Accuracy: 0.676000\n",
      "Epoch 16, CIFAR-10 Batch 3:  Loss:     0.0107 Validation Accuracy: 0.693200\n",
      "Epoch 16, CIFAR-10 Batch 4:  Loss:     0.0287 Validation Accuracy: 0.644800\n",
      "Epoch 16, CIFAR-10 Batch 5:  Loss:     0.0075 Validation Accuracy: 0.678600\n",
      "Epoch 17, CIFAR-10 Batch 1:  Loss:     0.0312 Validation Accuracy: 0.661200\n",
      "Epoch 17, CIFAR-10 Batch 2:  Loss:     0.0148 Validation Accuracy: 0.672200\n",
      "Epoch 17, CIFAR-10 Batch 3:  Loss:     0.0345 Validation Accuracy: 0.662200\n",
      "Epoch 17, CIFAR-10 Batch 4:  Loss:     0.0225 Validation Accuracy: 0.649000\n",
      "Epoch 17, CIFAR-10 Batch 5:  Loss:     0.0077 Validation Accuracy: 0.684800\n",
      "Epoch 18, CIFAR-10 Batch 1:  Loss:     0.0208 Validation Accuracy: 0.677600\n",
      "Epoch 18, CIFAR-10 Batch 2:  Loss:     0.0273 Validation Accuracy: 0.668600\n",
      "Epoch 18, CIFAR-10 Batch 3:  Loss:     0.0064 Validation Accuracy: 0.669000\n",
      "Epoch 18, CIFAR-10 Batch 4:  Loss:     0.0070 Validation Accuracy: 0.659200\n",
      "Epoch 18, CIFAR-10 Batch 5:  Loss:     0.0096 Validation Accuracy: 0.690000\n",
      "Epoch 19, CIFAR-10 Batch 1:  Loss:     0.0122 Validation Accuracy: 0.679200\n",
      "Epoch 19, CIFAR-10 Batch 2:  Loss:     0.0107 Validation Accuracy: 0.673200\n",
      "Epoch 19, CIFAR-10 Batch 3:  Loss:     0.0112 Validation Accuracy: 0.678400\n",
      "Epoch 19, CIFAR-10 Batch 4:  Loss:     0.0037 Validation Accuracy: 0.682600\n",
      "Epoch 19, CIFAR-10 Batch 5:  Loss:     0.0070 Validation Accuracy: 0.689000\n",
      "Epoch 20, CIFAR-10 Batch 1:  Loss:     0.0092 Validation Accuracy: 0.675600\n",
      "Epoch 20, CIFAR-10 Batch 2:  Loss:     0.0082 Validation Accuracy: 0.680000\n",
      "Epoch 20, CIFAR-10 Batch 3:  Loss:     0.0063 Validation Accuracy: 0.689400\n",
      "Epoch 20, CIFAR-10 Batch 4:  Loss:     0.0022 Validation Accuracy: 0.688000\n",
      "Epoch 20, CIFAR-10 Batch 5:  Loss:     0.0033 Validation Accuracy: 0.672800\n",
      "Epoch 21, CIFAR-10 Batch 1:  Loss:     0.0031 Validation Accuracy: 0.681600\n",
      "Epoch 21, CIFAR-10 Batch 2:  Loss:     0.0081 Validation Accuracy: 0.660800\n",
      "Epoch 21, CIFAR-10 Batch 3:  Loss:     0.0037 Validation Accuracy: 0.672600\n",
      "Epoch 21, CIFAR-10 Batch 4:  Loss:     0.0018 Validation Accuracy: 0.689400\n",
      "Epoch 21, CIFAR-10 Batch 5:  Loss:     0.0041 Validation Accuracy: 0.682000\n",
      "Epoch 22, CIFAR-10 Batch 1:  Loss:     0.0010 Validation Accuracy: 0.675600\n",
      "Epoch 22, CIFAR-10 Batch 2:  Loss:     0.0032 Validation Accuracy: 0.681200\n",
      "Epoch 22, CIFAR-10 Batch 3:  Loss:     0.0043 Validation Accuracy: 0.663000\n"
     ]
    },
    {
     "name": "stdout",
     "output_type": "stream",
     "text": [
      "Epoch 22, CIFAR-10 Batch 4:  Loss:     0.0016 Validation Accuracy: 0.688200\n",
      "Epoch 22, CIFAR-10 Batch 5:  Loss:     0.0046 Validation Accuracy: 0.685000\n",
      "Epoch 23, CIFAR-10 Batch 1:  Loss:     0.0020 Validation Accuracy: 0.666600\n",
      "Epoch 23, CIFAR-10 Batch 2:  Loss:     0.0043 Validation Accuracy: 0.661400\n",
      "Epoch 23, CIFAR-10 Batch 3:  Loss:     0.0008 Validation Accuracy: 0.684200\n",
      "Epoch 23, CIFAR-10 Batch 4:  Loss:     0.0009 Validation Accuracy: 0.678200\n",
      "Epoch 23, CIFAR-10 Batch 5:  Loss:     0.0050 Validation Accuracy: 0.657800\n",
      "Epoch 24, CIFAR-10 Batch 1:  Loss:     0.0020 Validation Accuracy: 0.676600\n",
      "Epoch 24, CIFAR-10 Batch 2:  Loss:     0.0034 Validation Accuracy: 0.671000\n",
      "Epoch 24, CIFAR-10 Batch 3:  Loss:     0.0006 Validation Accuracy: 0.683400\n",
      "Epoch 24, CIFAR-10 Batch 4:  Loss:     0.0020 Validation Accuracy: 0.680200\n",
      "Epoch 24, CIFAR-10 Batch 5:  Loss:     0.0038 Validation Accuracy: 0.664000\n",
      "Epoch 25, CIFAR-10 Batch 1:  Loss:     0.0064 Validation Accuracy: 0.657200\n",
      "Epoch 25, CIFAR-10 Batch 2:  Loss:     0.0011 Validation Accuracy: 0.677200\n",
      "Epoch 25, CIFAR-10 Batch 3:  Loss:     0.0007 Validation Accuracy: 0.681400\n",
      "Epoch 25, CIFAR-10 Batch 4:  Loss:     0.0022 Validation Accuracy: 0.657600\n",
      "Epoch 25, CIFAR-10 Batch 5:  Loss:     0.0003 Validation Accuracy: 0.657600\n",
      "Epoch 26, CIFAR-10 Batch 1:  Loss:     0.0047 Validation Accuracy: 0.663200\n",
      "Epoch 26, CIFAR-10 Batch 2:  Loss:     0.0045 Validation Accuracy: 0.674000\n",
      "Epoch 26, CIFAR-10 Batch 3:  Loss:     0.0005 Validation Accuracy: 0.694800\n",
      "Epoch 26, CIFAR-10 Batch 4:  Loss:     0.0037 Validation Accuracy: 0.642400\n",
      "Epoch 26, CIFAR-10 Batch 5:  Loss:     0.0008 Validation Accuracy: 0.672400\n",
      "Epoch 27, CIFAR-10 Batch 1:  Loss:     0.0042 Validation Accuracy: 0.657800\n",
      "Epoch 27, CIFAR-10 Batch 2:  Loss:     0.0050 Validation Accuracy: 0.668400\n",
      "Epoch 27, CIFAR-10 Batch 3:  Loss:     0.0003 Validation Accuracy: 0.686600\n",
      "Epoch 27, CIFAR-10 Batch 4:  Loss:     0.0010 Validation Accuracy: 0.667600\n",
      "Epoch 27, CIFAR-10 Batch 5:  Loss:     0.0030 Validation Accuracy: 0.675200\n",
      "Epoch 28, CIFAR-10 Batch 1:  Loss:     0.0041 Validation Accuracy: 0.670800\n",
      "Epoch 28, CIFAR-10 Batch 2:  Loss:     0.0017 Validation Accuracy: 0.677000\n",
      "Epoch 28, CIFAR-10 Batch 3:  Loss:     0.0008 Validation Accuracy: 0.692800\n",
      "Epoch 28, CIFAR-10 Batch 4:  Loss:     0.0002 Validation Accuracy: 0.665200\n",
      "Epoch 28, CIFAR-10 Batch 5:  Loss:     0.0043 Validation Accuracy: 0.684400\n",
      "Epoch 29, CIFAR-10 Batch 1:  Loss:     0.0021 Validation Accuracy: 0.661800\n",
      "Epoch 29, CIFAR-10 Batch 2:  Loss:     0.0010 Validation Accuracy: 0.679200\n",
      "Epoch 29, CIFAR-10 Batch 3:  Loss:     0.0014 Validation Accuracy: 0.688000\n",
      "Epoch 29, CIFAR-10 Batch 4:  Loss:     0.0007 Validation Accuracy: 0.676400\n",
      "Epoch 29, CIFAR-10 Batch 5:  Loss:     0.0015 Validation Accuracy: 0.675800\n",
      "Epoch 30, CIFAR-10 Batch 1:  Loss:     0.0011 Validation Accuracy: 0.673600\n",
      "Epoch 30, CIFAR-10 Batch 2:  Loss:     0.0020 Validation Accuracy: 0.681200\n",
      "Epoch 30, CIFAR-10 Batch 3:  Loss:     0.0011 Validation Accuracy: 0.687800\n",
      "Epoch 30, CIFAR-10 Batch 4:  Loss:     0.0005 Validation Accuracy: 0.672600\n",
      "Epoch 30, CIFAR-10 Batch 5:  Loss:     0.0010 Validation Accuracy: 0.679000\n",
      "Epoch 31, CIFAR-10 Batch 1:  Loss:     0.0006 Validation Accuracy: 0.673600\n",
      "Epoch 31, CIFAR-10 Batch 2:  Loss:     0.0006 Validation Accuracy: 0.671800\n",
      "Epoch 31, CIFAR-10 Batch 3:  Loss:     0.0005 Validation Accuracy: 0.696800\n",
      "Epoch 31, CIFAR-10 Batch 4:  Loss:     0.0007 Validation Accuracy: 0.679800\n",
      "Epoch 31, CIFAR-10 Batch 5:  Loss:     0.0007 Validation Accuracy: 0.668800\n",
      "Epoch 32, CIFAR-10 Batch 1:  Loss:     0.0002 Validation Accuracy: 0.679000\n",
      "Epoch 32, CIFAR-10 Batch 2:  Loss:     0.0006 Validation Accuracy: 0.677400\n",
      "Epoch 32, CIFAR-10 Batch 3:  Loss:     0.0004 Validation Accuracy: 0.687600\n",
      "Epoch 32, CIFAR-10 Batch 4:  Loss:     0.0007 Validation Accuracy: 0.671600\n",
      "Epoch 32, CIFAR-10 Batch 5:  Loss:     0.0009 Validation Accuracy: 0.684200\n",
      "Epoch 33, CIFAR-10 Batch 1:  Loss:     0.0004 Validation Accuracy: 0.685000\n",
      "Epoch 33, CIFAR-10 Batch 2:  Loss:     0.0005 Validation Accuracy: 0.680600\n",
      "Epoch 33, CIFAR-10 Batch 3:  Loss:     0.0016 Validation Accuracy: 0.683600\n",
      "Epoch 33, CIFAR-10 Batch 4:  Loss:     0.0012 Validation Accuracy: 0.669200\n",
      "Epoch 33, CIFAR-10 Batch 5:  Loss:     0.0002 Validation Accuracy: 0.693000\n",
      "Epoch 34, CIFAR-10 Batch 1:  Loss:     0.0003 Validation Accuracy: 0.684000\n",
      "Epoch 34, CIFAR-10 Batch 2:  Loss:     0.0010 Validation Accuracy: 0.679800\n",
      "Epoch 34, CIFAR-10 Batch 3:  Loss:     0.0002 Validation Accuracy: 0.682600\n",
      "Epoch 34, CIFAR-10 Batch 4:  Loss:     0.0012 Validation Accuracy: 0.671400\n",
      "Epoch 34, CIFAR-10 Batch 5:  Loss:     0.0002 Validation Accuracy: 0.684400\n",
      "Epoch 35, CIFAR-10 Batch 1:  Loss:     0.0009 Validation Accuracy: 0.680200\n",
      "Epoch 35, CIFAR-10 Batch 2:  Loss:     0.0010 Validation Accuracy: 0.687200\n",
      "Epoch 35, CIFAR-10 Batch 3:  Loss:     0.0002 Validation Accuracy: 0.683800\n",
      "Epoch 35, CIFAR-10 Batch 4:  Loss:     0.0010 Validation Accuracy: 0.673000\n",
      "Epoch 35, CIFAR-10 Batch 5:  Loss:     0.0006 Validation Accuracy: 0.683800\n",
      "Epoch 36, CIFAR-10 Batch 1:  Loss:     0.0010 Validation Accuracy: 0.686200\n",
      "Epoch 36, CIFAR-10 Batch 2:  Loss:     0.0008 Validation Accuracy: 0.677200\n",
      "Epoch 36, CIFAR-10 Batch 3:  Loss:     0.0002 Validation Accuracy: 0.680800\n",
      "Epoch 36, CIFAR-10 Batch 4:  Loss:     0.0003 Validation Accuracy: 0.670800\n",
      "Epoch 36, CIFAR-10 Batch 5:  Loss:     0.0001 Validation Accuracy: 0.691600\n",
      "Epoch 37, CIFAR-10 Batch 1:  Loss:     0.0005 Validation Accuracy: 0.684200\n",
      "Epoch 37, CIFAR-10 Batch 2:  Loss:     0.0002 Validation Accuracy: 0.683200\n",
      "Epoch 37, CIFAR-10 Batch 3:  Loss:     0.0012 Validation Accuracy: 0.670600\n",
      "Epoch 37, CIFAR-10 Batch 4:  Loss:     0.0004 Validation Accuracy: 0.675600\n",
      "Epoch 37, CIFAR-10 Batch 5:  Loss:     0.0021 Validation Accuracy: 0.685200\n",
      "Epoch 38, CIFAR-10 Batch 1:  Loss:     0.0001 Validation Accuracy: 0.679200\n",
      "Epoch 38, CIFAR-10 Batch 2:  Loss:     0.0002 Validation Accuracy: 0.685200\n",
      "Epoch 38, CIFAR-10 Batch 3:  Loss:     0.0008 Validation Accuracy: 0.684000\n",
      "Epoch 38, CIFAR-10 Batch 4:  Loss:     0.0007 Validation Accuracy: 0.686600\n",
      "Epoch 38, CIFAR-10 Batch 5:  Loss:     0.0001 Validation Accuracy: 0.677600\n",
      "Epoch 39, CIFAR-10 Batch 1:  Loss:     0.0008 Validation Accuracy: 0.672800\n",
      "Epoch 39, CIFAR-10 Batch 2:  Loss:     0.0007 Validation Accuracy: 0.683000\n",
      "Epoch 39, CIFAR-10 Batch 3:  Loss:     0.0000 Validation Accuracy: 0.687600\n",
      "Epoch 39, CIFAR-10 Batch 4:  Loss:     0.0000 Validation Accuracy: 0.679000\n",
      "Epoch 39, CIFAR-10 Batch 5:  Loss:     0.0003 Validation Accuracy: 0.681600\n",
      "Epoch 40, CIFAR-10 Batch 1:  Loss:     0.0007 Validation Accuracy: 0.669600\n",
      "Epoch 40, CIFAR-10 Batch 2:  Loss:     0.0038 Validation Accuracy: 0.669200\n",
      "Epoch 40, CIFAR-10 Batch 3:  Loss:     0.0002 Validation Accuracy: 0.678800\n",
      "Epoch 40, CIFAR-10 Batch 4:  Loss:     0.0002 Validation Accuracy: 0.682600\n",
      "Epoch 40, CIFAR-10 Batch 5:  Loss:     0.0003 Validation Accuracy: 0.677200\n",
      "Epoch 41, CIFAR-10 Batch 1:  Loss:     0.0012 Validation Accuracy: 0.683600\n",
      "Epoch 41, CIFAR-10 Batch 2:  Loss:     0.0002 Validation Accuracy: 0.675400\n",
      "Epoch 41, CIFAR-10 Batch 3:  Loss:     0.0001 Validation Accuracy: 0.688200\n",
      "Epoch 41, CIFAR-10 Batch 4:  Loss:     0.0008 Validation Accuracy: 0.680600\n",
      "Epoch 41, CIFAR-10 Batch 5:  Loss:     0.0005 Validation Accuracy: 0.675600\n",
      "Epoch 42, CIFAR-10 Batch 1:  Loss:     0.0003 Validation Accuracy: 0.673400\n",
      "Epoch 42, CIFAR-10 Batch 2:  Loss:     0.0003 Validation Accuracy: 0.683800\n",
      "Epoch 42, CIFAR-10 Batch 3:  Loss:     0.0002 Validation Accuracy: 0.684800\n",
      "Epoch 42, CIFAR-10 Batch 4:  Loss:     0.0002 Validation Accuracy: 0.678600\n",
      "Epoch 42, CIFAR-10 Batch 5:  Loss:     0.0002 Validation Accuracy: 0.672800\n",
      "Epoch 43, CIFAR-10 Batch 1:  Loss:     0.0007 Validation Accuracy: 0.678400\n",
      "Epoch 43, CIFAR-10 Batch 2:  Loss:     0.0005 Validation Accuracy: 0.679600\n",
      "Epoch 43, CIFAR-10 Batch 3:  Loss:     0.0001 Validation Accuracy: 0.688600\n",
      "Epoch 43, CIFAR-10 Batch 4:  Loss:     0.0002 Validation Accuracy: 0.681200\n",
      "Epoch 43, CIFAR-10 Batch 5:  Loss:     0.0004 Validation Accuracy: 0.679200\n",
      "Epoch 44, CIFAR-10 Batch 1:  Loss:     0.0002 Validation Accuracy: 0.678800\n"
     ]
    },
    {
     "name": "stdout",
     "output_type": "stream",
     "text": [
      "Epoch 44, CIFAR-10 Batch 2:  Loss:     0.0009 Validation Accuracy: 0.682200\n",
      "Epoch 44, CIFAR-10 Batch 3:  Loss:     0.0004 Validation Accuracy: 0.675200\n",
      "Epoch 44, CIFAR-10 Batch 4:  Loss:     0.0002 Validation Accuracy: 0.677200\n",
      "Epoch 44, CIFAR-10 Batch 5:  Loss:     0.0003 Validation Accuracy: 0.681200\n",
      "Epoch 45, CIFAR-10 Batch 1:  Loss:     0.0001 Validation Accuracy: 0.677400\n",
      "Epoch 45, CIFAR-10 Batch 2:  Loss:     0.0006 Validation Accuracy: 0.675200\n",
      "Epoch 45, CIFAR-10 Batch 3:  Loss:     0.0001 Validation Accuracy: 0.681200\n",
      "Epoch 45, CIFAR-10 Batch 4:  Loss:     0.0001 Validation Accuracy: 0.678600\n",
      "Epoch 45, CIFAR-10 Batch 5:  Loss:     0.0000 Validation Accuracy: 0.678200\n",
      "Epoch 46, CIFAR-10 Batch 1:  Loss:     0.0004 Validation Accuracy: 0.688200\n",
      "Epoch 46, CIFAR-10 Batch 2:  Loss:     0.0003 Validation Accuracy: 0.674800\n",
      "Epoch 46, CIFAR-10 Batch 3:  Loss:     0.0000 Validation Accuracy: 0.683200\n",
      "Epoch 46, CIFAR-10 Batch 4:  Loss:     0.0001 Validation Accuracy: 0.678200\n",
      "Epoch 46, CIFAR-10 Batch 5:  Loss:     0.0000 Validation Accuracy: 0.677600\n",
      "Epoch 47, CIFAR-10 Batch 1:  Loss:     0.0011 Validation Accuracy: 0.666600\n",
      "Epoch 47, CIFAR-10 Batch 2:  Loss:     0.0007 Validation Accuracy: 0.681400\n",
      "Epoch 47, CIFAR-10 Batch 3:  Loss:     0.0000 Validation Accuracy: 0.683400\n",
      "Epoch 47, CIFAR-10 Batch 4:  Loss:     0.0003 Validation Accuracy: 0.672800\n",
      "Epoch 47, CIFAR-10 Batch 5:  Loss:     0.0000 Validation Accuracy: 0.682000\n",
      "Epoch 48, CIFAR-10 Batch 1:  Loss:     0.0005 Validation Accuracy: 0.668400\n",
      "Epoch 48, CIFAR-10 Batch 2:  Loss:     0.0005 Validation Accuracy: 0.686200\n",
      "Epoch 48, CIFAR-10 Batch 3:  Loss:     0.0007 Validation Accuracy: 0.681000\n",
      "Epoch 48, CIFAR-10 Batch 4:  Loss:     0.0001 Validation Accuracy: 0.670400\n",
      "Epoch 48, CIFAR-10 Batch 5:  Loss:     0.0003 Validation Accuracy: 0.685400\n",
      "Epoch 49, CIFAR-10 Batch 1:  Loss:     0.0016 Validation Accuracy: 0.666600\n",
      "Epoch 49, CIFAR-10 Batch 2:  Loss:     0.0007 Validation Accuracy: 0.674800\n",
      "Epoch 49, CIFAR-10 Batch 3:  Loss:     0.0004 Validation Accuracy: 0.683800\n",
      "Epoch 49, CIFAR-10 Batch 4:  Loss:     0.0002 Validation Accuracy: 0.670800\n",
      "Epoch 49, CIFAR-10 Batch 5:  Loss:     0.0000 Validation Accuracy: 0.681600\n",
      "Epoch 50, CIFAR-10 Batch 1:  Loss:     0.0001 Validation Accuracy: 0.683000\n",
      "Epoch 50, CIFAR-10 Batch 2:  Loss:     0.0008 Validation Accuracy: 0.677600\n",
      "Epoch 50, CIFAR-10 Batch 3:  Loss:     0.0002 Validation Accuracy: 0.681600\n",
      "Epoch 50, CIFAR-10 Batch 4:  Loss:     0.0000 Validation Accuracy: 0.673200\n",
      "Epoch 50, CIFAR-10 Batch 5:  Loss:     0.0001 Validation Accuracy: 0.683600\n"
     ]
    }
   ],
   "source": [
    "\"\"\"\n",
    "DON'T MODIFY ANYTHING IN THIS CELL\n",
    "\"\"\"\n",
    "save_model_path = './image_classification'\n",
    "\n",
    "print('Training...')\n",
    "with tf.Session() as sess:\n",
    "    # Initializing the variables\n",
    "    sess.run(tf.global_variables_initializer())\n",
    "    \n",
    "    # Training cycle\n",
    "    for epoch in range(epochs):\n",
    "        # Loop over all batches\n",
    "        n_batches = 5\n",
    "        for batch_i in range(1, n_batches + 1):\n",
    "            for batch_features, batch_labels in helper.load_preprocess_training_batch(batch_i, batch_size):\n",
    "                train_neural_network(sess, optimizer, keep_probability, batch_features, batch_labels)\n",
    "            print('Epoch {:>2}, CIFAR-10 Batch {}:  '.format(epoch + 1, batch_i), end='')\n",
    "            print_stats(sess, batch_features, batch_labels, cost, accuracy)\n",
    "            \n",
    "    # Save Model\n",
    "    saver = tf.train.Saver()\n",
    "    save_path = saver.save(sess, save_model_path)"
   ]
  },
  {
   "cell_type": "markdown",
   "metadata": {},
   "source": [
    "# Checkpoint\n",
    "The model has been saved to disk.\n",
    "## Test Model\n",
    "Test your model against the test dataset.  This will be your final accuracy. You should have an accuracy greater than 50%. If you don't, keep tweaking the model architecture and parameters."
   ]
  },
  {
   "cell_type": "code",
   "execution_count": 475,
   "metadata": {},
   "outputs": [
    {
     "name": "stdout",
     "output_type": "stream",
     "text": [
      "INFO:tensorflow:Restoring parameters from ./image_classification\n",
      "Testing Accuracy: 0.6765625\n",
      "\n"
     ]
    },
    {
     "data": {
      "image/png": "[encoded data removed]",
      "text/plain": [
       "<matplotlib.figure.Figure at 0x10996e208>"
      ]
     },
     "metadata": {
      "image/png": {
       "height": 319,
       "width": 355
      }
     },
     "output_type": "display_data"
    }
   ],
   "source": [
    "\"\"\"\n",
    "DON'T MODIFY ANYTHING IN THIS CELL\n",
    "\"\"\"\n",
    "%matplotlib inline\n",
    "%config InlineBackend.figure_format = 'retina'\n",
    "\n",
    "import tensorflow as tf\n",
    "import pickle\n",
    "import helper\n",
    "import random\n",
    "\n",
    "# Set batch size if not already set\n",
    "try:\n",
    "    if batch_size:\n",
    "        pass\n",
    "except NameError:\n",
    "    batch_size = 64\n",
    "\n",
    "save_model_path = './image_classification'\n",
    "n_samples = 4\n",
    "top_n_predictions = 3\n",
    "\n",
    "def test_model():\n",
    "    \"\"\"\n",
    "    Test the saved model against the test dataset\n",
    "    \"\"\"\n",
    "\n",
    "    test_features, test_labels = pickle.load(open('preprocess_training.p', mode='rb'))\n",
    "    loaded_graph = tf.Graph()\n",
    "\n",
    "    with tf.Session(graph=loaded_graph) as sess:\n",
    "        # Load model\n",
    "        loader = tf.train.import_meta_graph(save_model_path + '.meta')\n",
    "        loader.restore(sess, save_model_path)\n",
    "\n",
    "        # Get Tensors from loaded model\n",
    "        loaded_x = loaded_graph.get_tensor_by_name('x:0')\n",
    "        loaded_y = loaded_graph.get_tensor_by_name('y:0')\n",
    "        loaded_keep_prob = loaded_graph.get_tensor_by_name('keep_prob:0')\n",
    "        loaded_logits = loaded_graph.get_tensor_by_name('logits:0')\n",
    "        loaded_acc = loaded_graph.get_tensor_by_name('accuracy:0')\n",
    "        \n",
    "        # Get accuracy in batches for memory limitations\n",
    "        test_batch_acc_total = 0\n",
    "        test_batch_count = 0\n",
    "        \n",
    "        for train_feature_batch, train_label_batch in helper.batch_features_labels(test_features, test_labels, batch_size):\n",
    "            test_batch_acc_total += sess.run(\n",
    "                loaded_acc,\n",
    "                feed_dict={loaded_x: train_feature_batch, loaded_y: train_label_batch, loaded_keep_prob: 1.0})\n",
    "            test_batch_count += 1\n",
    "\n",
    "        print('Testing Accuracy: {}\\n'.format(test_batch_acc_total/test_batch_count))\n",
    "\n",
    "        # Print Random Samples\n",
    "        random_test_features, random_test_labels = tuple(zip(*random.sample(list(zip(test_features, test_labels)), n_samples)))\n",
    "        random_test_predictions = sess.run(\n",
    "            tf.nn.top_k(tf.nn.softmax(loaded_logits), top_n_predictions),\n",
    "            feed_dict={loaded_x: random_test_features, loaded_y: random_test_labels, loaded_keep_prob: 1.0})\n",
    "        helper.display_image_predictions(random_test_features, random_test_labels, random_test_predictions)\n",
    "\n",
    "\n",
    "test_model()"
   ]
  },
  {
   "cell_type": "markdown",
   "metadata": {},
   "source": [
    "## Why 50-80% Accuracy?\n",
    "You might be wondering why you can't get an accuracy any higher. First things first, 50% isn't bad for a simple CNN.  Pure guessing would get you 10% accuracy. That's because there are many more techniques that can be applied to your model and we recemmond that once you are done with this project, you explore!\n",
    "\n",
    "## Submitting This Project\n",
    "When submitting this project, make sure to run all the cells before saving the notebook.  Save the notebook file as \"image_classification.ipynb\" and save it as a HTML file under \"File\" -> \"Download as\".  Include the \"helper.py\" and \"problem_unittests.py\" files in your submission."
   ]
  }
 ],
 "metadata": {
  "kernelspec": {
   "display_name": "Python 3",
   "language": "python",
   "name": "python3"
  },
  "language_info": {
   "codemirror_mode": {
    "name": "ipython",
    "version": 3
   },
   "file_extension": ".py",
   "mimetype": "text/x-python",
   "name": "python",
   "nbconvert_exporter": "python",
   "pygments_lexer": "ipython3",
   "version": "3.5.5"
  }
 },
 "nbformat": 4,
 "nbformat_minor": 1
}
